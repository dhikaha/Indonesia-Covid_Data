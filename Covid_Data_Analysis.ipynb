{
  "cells": [
    {
      "cell_type": "code",
      "execution_count": 1,
      "metadata": {
        "colab": {
          "base_uri": "https://localhost:8080/"
        },
        "id": "UrLkxa_klHMm",
        "outputId": "764e7f73-40bd-4047-e239-881d93c6af8e"
      },
      "outputs": [
        {
          "name": "stdout",
          "output_type": "stream",
          "text": [
            "Requirement already satisfied: beautifulsoup4 in c:\\users\\asus\\appdata\\local\\programs\\python\\python311\\lib\\site-packages (4.11.1)\n",
            "Requirement already satisfied: soupsieve>1.2 in c:\\users\\asus\\appdata\\local\\programs\\python\\python311\\lib\\site-packages (from beautifulsoup4) (2.3.2.post1)\n",
            "Note: you may need to restart the kernel to use updated packages.\n"
          ]
        }
      ],
      "source": [
        "pip install beautifulsoup4"
      ]
    },
    {
      "cell_type": "code",
      "execution_count": 2,
      "metadata": {},
      "outputs": [
        {
          "name": "stdout",
          "output_type": "stream",
          "text": [
            "Requirement already satisfied: lxml in c:\\users\\asus\\appdata\\local\\programs\\python\\python311\\lib\\site-packages (4.9.2)\n",
            "Note: you may need to restart the kernel to use updated packages.\n"
          ]
        }
      ],
      "source": [
        "pip install lxml"
      ]
    },
    {
      "cell_type": "code",
      "execution_count": 3,
      "metadata": {
        "id": "OAdFvIkznLh-"
      },
      "outputs": [],
      "source": [
        "import pandas as pd # library for data analysis\n",
        "import requests # library to handle requests\n",
        "from bs4 import BeautifulSoup # library to parse HTML documents\n",
        "import re"
      ]
    },
    {
      "attachments": {},
      "cell_type": "markdown",
      "metadata": {
        "id": "373nJjBi_A9r"
      },
      "source": [
        "## Web scraping"
      ]
    },
    {
      "cell_type": "code",
      "execution_count": 4,
      "metadata": {
        "colab": {
          "base_uri": "https://localhost:8080/"
        },
        "id": "afkjLhKruqsL",
        "outputId": "e124b0ee-0f49-48f6-f82a-fa830ba824a6"
      },
      "outputs": [
        {
          "name": "stdout",
          "output_type": "stream",
          "text": [
            "200\n"
          ]
        }
      ],
      "source": [
        "# get the response in the form of html\n",
        "wikiurl=\"https://en.wikipedia.org/wiki/Statistics_of_the_COVID-19_pandemic_in_Indonesia#Cases_by_province_and_region\"\n",
        "table_class=\"wikitable sortable jquery-tablesorter\"\n",
        "response=requests.get(wikiurl)\n",
        "print(response.status_code)"
      ]
    },
    {
      "cell_type": "code",
      "execution_count": 5,
      "metadata": {
        "id": "lnEaShFFu464"
      },
      "outputs": [],
      "source": [
        "# parse data from the html into a beautifulsoup object\n",
        "soup = BeautifulSoup(response.text, 'html.parser')\n",
        "covidtable=soup.find('table',{'class':\"wikitable\"})"
      ]
    },
    {
      "cell_type": "code",
      "execution_count": 6,
      "metadata": {
        "colab": {
          "base_uri": "https://localhost:8080/",
          "height": 238
        },
        "id": "zqKvRyqJvJu2",
        "outputId": "49091e5e-f9c4-4d76-cd7f-7b83e35733ff"
      },
      "outputs": [
        {
          "data": {
            "text/html": [
              "<div>\n",
              "<style scoped>\n",
              "    .dataframe tbody tr th:only-of-type {\n",
              "        vertical-align: middle;\n",
              "    }\n",
              "\n",
              "    .dataframe tbody tr th {\n",
              "        vertical-align: top;\n",
              "    }\n",
              "\n",
              "    .dataframe thead tr th {\n",
              "        text-align: left;\n",
              "    }\n",
              "</style>\n",
              "<table border=\"1\" class=\"dataframe\">\n",
              "  <thead>\n",
              "    <tr>\n",
              "      <th></th>\n",
              "      <th colspan=\"9\" halign=\"left\">COVID-19 cases in Indonesia[a][b]</th>\n",
              "    </tr>\n",
              "    <tr>\n",
              "      <th></th>\n",
              "      <th>Province</th>\n",
              "      <th>Cases</th>\n",
              "      <th>Recoveries</th>\n",
              "      <th>Deaths</th>\n",
              "      <th>Active[c]</th>\n",
              "      <th>Cases per 100,000  population[d]</th>\n",
              "      <th>Recovery rate</th>\n",
              "      <th>Fatality rate</th>\n",
              "      <th>Official website</th>\n",
              "    </tr>\n",
              "  </thead>\n",
              "  <tbody>\n",
              "    <tr>\n",
              "      <th>0</th>\n",
              "      <td>Aceh</td>\n",
              "      <td>44842</td>\n",
              "      <td>42515</td>\n",
              "      <td>2263</td>\n",
              "      <td>64</td>\n",
              "      <td>850</td>\n",
              "      <td>NaN</td>\n",
              "      <td>NaN</td>\n",
              "      <td>covid19.acehprov.go.id</td>\n",
              "    </tr>\n",
              "    <tr>\n",
              "      <th>1</th>\n",
              "      <td>Bali</td>\n",
              "      <td>172387</td>\n",
              "      <td>167356</td>\n",
              "      <td>4866</td>\n",
              "      <td>165</td>\n",
              "      <td>3993</td>\n",
              "      <td>NaN</td>\n",
              "      <td>NaN</td>\n",
              "      <td>infocorona.baliprov.go.id</td>\n",
              "    </tr>\n",
              "    <tr>\n",
              "      <th>2</th>\n",
              "      <td>Bangka Belitung Islands</td>\n",
              "      <td>67135</td>\n",
              "      <td>65405</td>\n",
              "      <td>1651</td>\n",
              "      <td>79</td>\n",
              "      <td>4612</td>\n",
              "      <td>NaN</td>\n",
              "      <td>NaN</td>\n",
              "      <td>covid19.babelprov.go.id</td>\n",
              "    </tr>\n",
              "    <tr>\n",
              "      <th>3</th>\n",
              "      <td>Banten</td>\n",
              "      <td>364679</td>\n",
              "      <td>361040</td>\n",
              "      <td>2986</td>\n",
              "      <td>653</td>\n",
              "      <td>3063</td>\n",
              "      <td>NaN</td>\n",
              "      <td>NaN</td>\n",
              "      <td>infocorona.bantenprov.go.id</td>\n",
              "    </tr>\n",
              "    <tr>\n",
              "      <th>4</th>\n",
              "      <td>Bengkulu</td>\n",
              "      <td>29838</td>\n",
              "      <td>29257</td>\n",
              "      <td>528</td>\n",
              "      <td>53</td>\n",
              "      <td>1484</td>\n",
              "      <td>NaN</td>\n",
              "      <td>NaN</td>\n",
              "      <td>covid19.bengkuluprov.go.id</td>\n",
              "    </tr>\n",
              "  </tbody>\n",
              "</table>\n",
              "</div>"
            ],
            "text/plain": [
              "  COVID-19 cases in Indonesia[a][b]                                      \\\n",
              "                           Province   Cases Recoveries Deaths Active[c]   \n",
              "0                              Aceh   44842      42515   2263        64   \n",
              "1                              Bali  172387     167356   4866       165   \n",
              "2           Bangka Belitung Islands   67135      65405   1651        79   \n",
              "3                            Banten  364679     361040   2986       653   \n",
              "4                          Bengkulu   29838      29257    528        53   \n",
              "\n",
              "                                                                \\\n",
              "  Cases per 100,000  population[d] Recovery rate Fatality rate   \n",
              "0                              850           NaN           NaN   \n",
              "1                             3993           NaN           NaN   \n",
              "2                             4612           NaN           NaN   \n",
              "3                             3063           NaN           NaN   \n",
              "4                             1484           NaN           NaN   \n",
              "\n",
              "                                \n",
              "              Official website  \n",
              "0       covid19.acehprov.go.id  \n",
              "1    infocorona.baliprov.go.id  \n",
              "2      covid19.babelprov.go.id  \n",
              "3  infocorona.bantenprov.go.id  \n",
              "4   covid19.bengkuluprov.go.id  "
            ]
          },
          "execution_count": 6,
          "metadata": {},
          "output_type": "execute_result"
        }
      ],
      "source": [
        "df_datacovid =pd.read_html(str(covidtable))\n",
        "# convert list to dataframe\n",
        "df_datacovid =pd.DataFrame(df_datacovid[0])\n",
        "df_datacovid.head()"
      ]
    },
    {
      "cell_type": "code",
      "execution_count": 7,
      "metadata": {
        "id": "59TsXdFd45pZ"
      },
      "outputs": [],
      "source": [
        "df_datacovid.to_csv('datacovid.csv', header=True, index=False)"
      ]
    },
    {
      "attachments": {},
      "cell_type": "markdown",
      "metadata": {
        "id": "2Lozfn9L_G28"
      },
      "source": [
        "## data cleaning"
      ]
    },
    {
      "cell_type": "code",
      "execution_count": 9,
      "metadata": {
        "id": "SYaHv9R5xLwH"
      },
      "outputs": [],
      "source": [
        "df = pd.read_csv('datacovid.csv')"
      ]
    },
    {
      "cell_type": "code",
      "execution_count": 10,
      "metadata": {
        "colab": {
          "base_uri": "https://localhost:8080/"
        },
        "id": "6iP-r4007Qe0",
        "outputId": "01821c10-98c1-46e8-f1e0-0b202ad80c50"
      },
      "outputs": [
        {
          "data": {
            "text/plain": [
              "Index(['COVID-19 cases in Indonesia[a][b]',\n",
              "       'COVID-19 cases in Indonesia[a][b].1',\n",
              "       'COVID-19 cases in Indonesia[a][b].2',\n",
              "       'COVID-19 cases in Indonesia[a][b].3',\n",
              "       'COVID-19 cases in Indonesia[a][b].4',\n",
              "       'COVID-19 cases in Indonesia[a][b].5',\n",
              "       'COVID-19 cases in Indonesia[a][b].6',\n",
              "       'COVID-19 cases in Indonesia[a][b].7',\n",
              "       'COVID-19 cases in Indonesia[a][b].8'],\n",
              "      dtype='object')"
            ]
          },
          "execution_count": 10,
          "metadata": {},
          "output_type": "execute_result"
        }
      ],
      "source": [
        "df.columns"
      ]
    },
    {
      "cell_type": "code",
      "execution_count": 11,
      "metadata": {
        "id": "W0i5IHz809Ja"
      },
      "outputs": [],
      "source": [
        "df.columns = ['province', 'cases', 'recoveries', 'deaths', 'active_case', 'cases_per_100,000_population', 'recovery_rate', 'fatality_rate', 'official_website']"
      ]
    },
    {
      "cell_type": "code",
      "execution_count": 12,
      "metadata": {
        "colab": {
          "base_uri": "https://localhost:8080/"
        },
        "id": "FxuNwXjz3m_z",
        "outputId": "eff71741-2d53-4361-98ff-dadd55ee703d"
      },
      "outputs": [
        {
          "data": {
            "text/plain": [
              "Index(['province', 'cases', 'recoveries', 'deaths', 'active_case',\n",
              "       'cases_per_100,000_population', 'recovery_rate', 'fatality_rate',\n",
              "       'official_website'],\n",
              "      dtype='object')"
            ]
          },
          "execution_count": 12,
          "metadata": {},
          "output_type": "execute_result"
        }
      ],
      "source": [
        "df.columns"
      ]
    },
    {
      "cell_type": "code",
      "execution_count": 13,
      "metadata": {
        "colab": {
          "base_uri": "https://localhost:8080/",
          "height": 206
        },
        "id": "KlNOMnkt8kHG",
        "outputId": "52d07c50-2039-4f73-dff4-c8a9ef3951ab"
      },
      "outputs": [
        {
          "data": {
            "text/html": [
              "<div>\n",
              "<style scoped>\n",
              "    .dataframe tbody tr th:only-of-type {\n",
              "        vertical-align: middle;\n",
              "    }\n",
              "\n",
              "    .dataframe tbody tr th {\n",
              "        vertical-align: top;\n",
              "    }\n",
              "\n",
              "    .dataframe thead th {\n",
              "        text-align: right;\n",
              "    }\n",
              "</style>\n",
              "<table border=\"1\" class=\"dataframe\">\n",
              "  <thead>\n",
              "    <tr style=\"text-align: right;\">\n",
              "      <th></th>\n",
              "      <th>province</th>\n",
              "      <th>cases</th>\n",
              "      <th>recoveries</th>\n",
              "      <th>deaths</th>\n",
              "      <th>active_case</th>\n",
              "      <th>cases_per_100,000_population</th>\n",
              "      <th>recovery_rate</th>\n",
              "      <th>fatality_rate</th>\n",
              "      <th>official_website</th>\n",
              "    </tr>\n",
              "  </thead>\n",
              "  <tbody>\n",
              "    <tr>\n",
              "      <th>0</th>\n",
              "      <td>Province</td>\n",
              "      <td>Cases</td>\n",
              "      <td>Recoveries</td>\n",
              "      <td>Deaths</td>\n",
              "      <td>Active[c]</td>\n",
              "      <td>Cases per 100,000  population[d]</td>\n",
              "      <td>Recovery rate</td>\n",
              "      <td>Fatality rate</td>\n",
              "      <td>Official website</td>\n",
              "    </tr>\n",
              "    <tr>\n",
              "      <th>1</th>\n",
              "      <td>Aceh</td>\n",
              "      <td>44842</td>\n",
              "      <td>42515</td>\n",
              "      <td>2263</td>\n",
              "      <td>64</td>\n",
              "      <td>850</td>\n",
              "      <td>NaN</td>\n",
              "      <td>NaN</td>\n",
              "      <td>covid19.acehprov.go.id</td>\n",
              "    </tr>\n",
              "    <tr>\n",
              "      <th>2</th>\n",
              "      <td>Bali</td>\n",
              "      <td>172387</td>\n",
              "      <td>167356</td>\n",
              "      <td>4866</td>\n",
              "      <td>165</td>\n",
              "      <td>3993</td>\n",
              "      <td>NaN</td>\n",
              "      <td>NaN</td>\n",
              "      <td>infocorona.baliprov.go.id</td>\n",
              "    </tr>\n",
              "    <tr>\n",
              "      <th>3</th>\n",
              "      <td>Bangka Belitung Islands</td>\n",
              "      <td>67135</td>\n",
              "      <td>65405</td>\n",
              "      <td>1651</td>\n",
              "      <td>79</td>\n",
              "      <td>4612</td>\n",
              "      <td>NaN</td>\n",
              "      <td>NaN</td>\n",
              "      <td>covid19.babelprov.go.id</td>\n",
              "    </tr>\n",
              "    <tr>\n",
              "      <th>4</th>\n",
              "      <td>Banten</td>\n",
              "      <td>364679</td>\n",
              "      <td>361040</td>\n",
              "      <td>2986</td>\n",
              "      <td>653</td>\n",
              "      <td>3063</td>\n",
              "      <td>NaN</td>\n",
              "      <td>NaN</td>\n",
              "      <td>infocorona.bantenprov.go.id</td>\n",
              "    </tr>\n",
              "  </tbody>\n",
              "</table>\n",
              "</div>"
            ],
            "text/plain": [
              "                  province   cases  recoveries  deaths active_case  \\\n",
              "0                 Province   Cases  Recoveries  Deaths   Active[c]   \n",
              "1                     Aceh   44842       42515    2263          64   \n",
              "2                     Bali  172387      167356    4866         165   \n",
              "3  Bangka Belitung Islands   67135       65405    1651          79   \n",
              "4                   Banten  364679      361040    2986         653   \n",
              "\n",
              "       cases_per_100,000_population  recovery_rate  fatality_rate  \\\n",
              "0  Cases per 100,000  population[d]  Recovery rate  Fatality rate   \n",
              "1                               850            NaN            NaN   \n",
              "2                              3993            NaN            NaN   \n",
              "3                              4612            NaN            NaN   \n",
              "4                              3063            NaN            NaN   \n",
              "\n",
              "              official_website  \n",
              "0             Official website  \n",
              "1       covid19.acehprov.go.id  \n",
              "2    infocorona.baliprov.go.id  \n",
              "3      covid19.babelprov.go.id  \n",
              "4  infocorona.bantenprov.go.id  "
            ]
          },
          "execution_count": 13,
          "metadata": {},
          "output_type": "execute_result"
        }
      ],
      "source": [
        "df.head()"
      ]
    },
    {
      "cell_type": "code",
      "execution_count": 14,
      "metadata": {
        "id": "lV4DT4pN8lIT"
      },
      "outputs": [],
      "source": [
        "df = df.drop(index=0).reset_index(drop=True)"
      ]
    },
    {
      "cell_type": "code",
      "execution_count": 15,
      "metadata": {
        "colab": {
          "base_uri": "https://localhost:8080/",
          "height": 206
        },
        "id": "9sNM_OwU85t8",
        "outputId": "d4b6df25-9774-4700-f322-15dead9aaca8"
      },
      "outputs": [
        {
          "data": {
            "text/html": [
              "<div>\n",
              "<style scoped>\n",
              "    .dataframe tbody tr th:only-of-type {\n",
              "        vertical-align: middle;\n",
              "    }\n",
              "\n",
              "    .dataframe tbody tr th {\n",
              "        vertical-align: top;\n",
              "    }\n",
              "\n",
              "    .dataframe thead th {\n",
              "        text-align: right;\n",
              "    }\n",
              "</style>\n",
              "<table border=\"1\" class=\"dataframe\">\n",
              "  <thead>\n",
              "    <tr style=\"text-align: right;\">\n",
              "      <th></th>\n",
              "      <th>province</th>\n",
              "      <th>cases</th>\n",
              "      <th>recoveries</th>\n",
              "      <th>deaths</th>\n",
              "      <th>active_case</th>\n",
              "      <th>cases_per_100,000_population</th>\n",
              "      <th>recovery_rate</th>\n",
              "      <th>fatality_rate</th>\n",
              "      <th>official_website</th>\n",
              "    </tr>\n",
              "  </thead>\n",
              "  <tbody>\n",
              "    <tr>\n",
              "      <th>0</th>\n",
              "      <td>Aceh</td>\n",
              "      <td>44842</td>\n",
              "      <td>42515</td>\n",
              "      <td>2263</td>\n",
              "      <td>64</td>\n",
              "      <td>850</td>\n",
              "      <td>NaN</td>\n",
              "      <td>NaN</td>\n",
              "      <td>covid19.acehprov.go.id</td>\n",
              "    </tr>\n",
              "    <tr>\n",
              "      <th>1</th>\n",
              "      <td>Bali</td>\n",
              "      <td>172387</td>\n",
              "      <td>167356</td>\n",
              "      <td>4866</td>\n",
              "      <td>165</td>\n",
              "      <td>3993</td>\n",
              "      <td>NaN</td>\n",
              "      <td>NaN</td>\n",
              "      <td>infocorona.baliprov.go.id</td>\n",
              "    </tr>\n",
              "    <tr>\n",
              "      <th>2</th>\n",
              "      <td>Bangka Belitung Islands</td>\n",
              "      <td>67135</td>\n",
              "      <td>65405</td>\n",
              "      <td>1651</td>\n",
              "      <td>79</td>\n",
              "      <td>4612</td>\n",
              "      <td>NaN</td>\n",
              "      <td>NaN</td>\n",
              "      <td>covid19.babelprov.go.id</td>\n",
              "    </tr>\n",
              "    <tr>\n",
              "      <th>3</th>\n",
              "      <td>Banten</td>\n",
              "      <td>364679</td>\n",
              "      <td>361040</td>\n",
              "      <td>2986</td>\n",
              "      <td>653</td>\n",
              "      <td>3063</td>\n",
              "      <td>NaN</td>\n",
              "      <td>NaN</td>\n",
              "      <td>infocorona.bantenprov.go.id</td>\n",
              "    </tr>\n",
              "    <tr>\n",
              "      <th>4</th>\n",
              "      <td>Bengkulu</td>\n",
              "      <td>29838</td>\n",
              "      <td>29257</td>\n",
              "      <td>528</td>\n",
              "      <td>53</td>\n",
              "      <td>1484</td>\n",
              "      <td>NaN</td>\n",
              "      <td>NaN</td>\n",
              "      <td>covid19.bengkuluprov.go.id</td>\n",
              "    </tr>\n",
              "  </tbody>\n",
              "</table>\n",
              "</div>"
            ],
            "text/plain": [
              "                  province   cases recoveries deaths active_case  \\\n",
              "0                     Aceh   44842      42515   2263          64   \n",
              "1                     Bali  172387     167356   4866         165   \n",
              "2  Bangka Belitung Islands   67135      65405   1651          79   \n",
              "3                   Banten  364679     361040   2986         653   \n",
              "4                 Bengkulu   29838      29257    528          53   \n",
              "\n",
              "  cases_per_100,000_population recovery_rate fatality_rate  \\\n",
              "0                          850           NaN           NaN   \n",
              "1                         3993           NaN           NaN   \n",
              "2                         4612           NaN           NaN   \n",
              "3                         3063           NaN           NaN   \n",
              "4                         1484           NaN           NaN   \n",
              "\n",
              "              official_website  \n",
              "0       covid19.acehprov.go.id  \n",
              "1    infocorona.baliprov.go.id  \n",
              "2      covid19.babelprov.go.id  \n",
              "3  infocorona.bantenprov.go.id  \n",
              "4   covid19.bengkuluprov.go.id  "
            ]
          },
          "execution_count": 15,
          "metadata": {},
          "output_type": "execute_result"
        }
      ],
      "source": [
        "df.head()"
      ]
    },
    {
      "cell_type": "code",
      "execution_count": 16,
      "metadata": {
        "id": "hfQziP3_88XA"
      },
      "outputs": [],
      "source": [
        "df = df.drop(['recovery_rate','fatality_rate'], axis=1)"
      ]
    },
    {
      "cell_type": "code",
      "execution_count": 17,
      "metadata": {
        "colab": {
          "base_uri": "https://localhost:8080/",
          "height": 285
        },
        "id": "1ECGRHZ191Ee",
        "outputId": "f805eede-7b1d-4c32-cb81-f0bd11fdce3d"
      },
      "outputs": [
        {
          "data": {
            "text/html": [
              "<div>\n",
              "<style scoped>\n",
              "    .dataframe tbody tr th:only-of-type {\n",
              "        vertical-align: middle;\n",
              "    }\n",
              "\n",
              "    .dataframe tbody tr th {\n",
              "        vertical-align: top;\n",
              "    }\n",
              "\n",
              "    .dataframe thead th {\n",
              "        text-align: right;\n",
              "    }\n",
              "</style>\n",
              "<table border=\"1\" class=\"dataframe\">\n",
              "  <thead>\n",
              "    <tr style=\"text-align: right;\">\n",
              "      <th></th>\n",
              "      <th>province</th>\n",
              "      <th>cases</th>\n",
              "      <th>recoveries</th>\n",
              "      <th>deaths</th>\n",
              "      <th>active_case</th>\n",
              "      <th>cases_per_100,000_population</th>\n",
              "      <th>official_website</th>\n",
              "    </tr>\n",
              "  </thead>\n",
              "  <tbody>\n",
              "    <tr>\n",
              "      <th>31</th>\n",
              "      <td>West Papua</td>\n",
              "      <td>32972</td>\n",
              "      <td>32515</td>\n",
              "      <td>393</td>\n",
              "      <td>64</td>\n",
              "      <td>2907</td>\n",
              "      <td>dinkes.papuabaratprov.go.id</td>\n",
              "    </tr>\n",
              "    <tr>\n",
              "      <th>32</th>\n",
              "      <td>West Sulawesi</td>\n",
              "      <td>16038</td>\n",
              "      <td>15619</td>\n",
              "      <td>407</td>\n",
              "      <td>12</td>\n",
              "      <td>1130</td>\n",
              "      <td>dinkes.sulbarprov.go.id</td>\n",
              "    </tr>\n",
              "    <tr>\n",
              "      <th>33</th>\n",
              "      <td>West Sumatra</td>\n",
              "      <td>105635</td>\n",
              "      <td>103046</td>\n",
              "      <td>2420</td>\n",
              "      <td>169</td>\n",
              "      <td>1909</td>\n",
              "      <td>corona.sumbarprov.go.id</td>\n",
              "    </tr>\n",
              "    <tr>\n",
              "      <th>34</th>\n",
              "      <td>Total</td>\n",
              "      <td>6792173</td>\n",
              "      <td>6611770</td>\n",
              "      <td>161526</td>\n",
              "      <td>18877</td>\n",
              "      <td>2514</td>\n",
              "      <td>covid19.go.id</td>\n",
              "    </tr>\n",
              "    <tr>\n",
              "      <th>35</th>\n",
              "      <td>Data as of 25 December 2022[1] .mw-parser-outp...</td>\n",
              "      <td>Data as of 25 December 2022[1] .mw-parser-outp...</td>\n",
              "      <td>Data as of 25 December 2022[1] .mw-parser-outp...</td>\n",
              "      <td>Data as of 25 December 2022[1] .mw-parser-outp...</td>\n",
              "      <td>Data as of 25 December 2022[1] .mw-parser-outp...</td>\n",
              "      <td>Data as of 25 December 2022[1] .mw-parser-outp...</td>\n",
              "      <td>Data as of 25 December 2022[1] .mw-parser-outp...</td>\n",
              "    </tr>\n",
              "  </tbody>\n",
              "</table>\n",
              "</div>"
            ],
            "text/plain": [
              "                                             province  \\\n",
              "31                                         West Papua   \n",
              "32                                      West Sulawesi   \n",
              "33                                       West Sumatra   \n",
              "34                                              Total   \n",
              "35  Data as of 25 December 2022[1] .mw-parser-outp...   \n",
              "\n",
              "                                                cases  \\\n",
              "31                                              32972   \n",
              "32                                              16038   \n",
              "33                                             105635   \n",
              "34                                            6792173   \n",
              "35  Data as of 25 December 2022[1] .mw-parser-outp...   \n",
              "\n",
              "                                           recoveries  \\\n",
              "31                                              32515   \n",
              "32                                              15619   \n",
              "33                                             103046   \n",
              "34                                            6611770   \n",
              "35  Data as of 25 December 2022[1] .mw-parser-outp...   \n",
              "\n",
              "                                               deaths  \\\n",
              "31                                                393   \n",
              "32                                                407   \n",
              "33                                               2420   \n",
              "34                                             161526   \n",
              "35  Data as of 25 December 2022[1] .mw-parser-outp...   \n",
              "\n",
              "                                          active_case  \\\n",
              "31                                                 64   \n",
              "32                                                 12   \n",
              "33                                                169   \n",
              "34                                              18877   \n",
              "35  Data as of 25 December 2022[1] .mw-parser-outp...   \n",
              "\n",
              "                         cases_per_100,000_population  \\\n",
              "31                                               2907   \n",
              "32                                               1130   \n",
              "33                                               1909   \n",
              "34                                               2514   \n",
              "35  Data as of 25 December 2022[1] .mw-parser-outp...   \n",
              "\n",
              "                                     official_website  \n",
              "31                        dinkes.papuabaratprov.go.id  \n",
              "32                            dinkes.sulbarprov.go.id  \n",
              "33                            corona.sumbarprov.go.id  \n",
              "34                                      covid19.go.id  \n",
              "35  Data as of 25 December 2022[1] .mw-parser-outp...  "
            ]
          },
          "execution_count": 17,
          "metadata": {},
          "output_type": "execute_result"
        }
      ],
      "source": [
        "df.tail()"
      ]
    },
    {
      "cell_type": "code",
      "execution_count": 18,
      "metadata": {
        "id": "lBOMKNkUDRnd"
      },
      "outputs": [],
      "source": [
        "df = df.drop(df.tail(2).index)"
      ]
    },
    {
      "cell_type": "code",
      "execution_count": 19,
      "metadata": {
        "colab": {
          "base_uri": "https://localhost:8080/",
          "height": 206
        },
        "id": "phSf8BUfDolt",
        "outputId": "3012f8a3-5350-4b80-a616-63121e82b2e1"
      },
      "outputs": [
        {
          "data": {
            "text/html": [
              "<div>\n",
              "<style scoped>\n",
              "    .dataframe tbody tr th:only-of-type {\n",
              "        vertical-align: middle;\n",
              "    }\n",
              "\n",
              "    .dataframe tbody tr th {\n",
              "        vertical-align: top;\n",
              "    }\n",
              "\n",
              "    .dataframe thead th {\n",
              "        text-align: right;\n",
              "    }\n",
              "</style>\n",
              "<table border=\"1\" class=\"dataframe\">\n",
              "  <thead>\n",
              "    <tr style=\"text-align: right;\">\n",
              "      <th></th>\n",
              "      <th>province</th>\n",
              "      <th>cases</th>\n",
              "      <th>recoveries</th>\n",
              "      <th>deaths</th>\n",
              "      <th>active_case</th>\n",
              "      <th>cases_per_100,000_population</th>\n",
              "      <th>official_website</th>\n",
              "    </tr>\n",
              "  </thead>\n",
              "  <tbody>\n",
              "    <tr>\n",
              "      <th>29</th>\n",
              "      <td>West Kalimantan</td>\n",
              "      <td>67451</td>\n",
              "      <td>66178</td>\n",
              "      <td>1146</td>\n",
              "      <td>127</td>\n",
              "      <td>1246</td>\n",
              "      <td>covid19.kalbarprov.go.id</td>\n",
              "    </tr>\n",
              "    <tr>\n",
              "      <th>30</th>\n",
              "      <td>West Nusa Tenggara</td>\n",
              "      <td>37266</td>\n",
              "      <td>36271</td>\n",
              "      <td>933</td>\n",
              "      <td>62</td>\n",
              "      <td>700</td>\n",
              "      <td>corona.ntbprov.go.id</td>\n",
              "    </tr>\n",
              "    <tr>\n",
              "      <th>31</th>\n",
              "      <td>West Papua</td>\n",
              "      <td>32972</td>\n",
              "      <td>32515</td>\n",
              "      <td>393</td>\n",
              "      <td>64</td>\n",
              "      <td>2907</td>\n",
              "      <td>dinkes.papuabaratprov.go.id</td>\n",
              "    </tr>\n",
              "    <tr>\n",
              "      <th>32</th>\n",
              "      <td>West Sulawesi</td>\n",
              "      <td>16038</td>\n",
              "      <td>15619</td>\n",
              "      <td>407</td>\n",
              "      <td>12</td>\n",
              "      <td>1130</td>\n",
              "      <td>dinkes.sulbarprov.go.id</td>\n",
              "    </tr>\n",
              "    <tr>\n",
              "      <th>33</th>\n",
              "      <td>West Sumatra</td>\n",
              "      <td>105635</td>\n",
              "      <td>103046</td>\n",
              "      <td>2420</td>\n",
              "      <td>169</td>\n",
              "      <td>1909</td>\n",
              "      <td>corona.sumbarprov.go.id</td>\n",
              "    </tr>\n",
              "  </tbody>\n",
              "</table>\n",
              "</div>"
            ],
            "text/plain": [
              "              province   cases recoveries deaths active_case  \\\n",
              "29     West Kalimantan   67451      66178   1146         127   \n",
              "30  West Nusa Tenggara   37266      36271    933          62   \n",
              "31          West Papua   32972      32515    393          64   \n",
              "32       West Sulawesi   16038      15619    407          12   \n",
              "33        West Sumatra  105635     103046   2420         169   \n",
              "\n",
              "   cases_per_100,000_population             official_website  \n",
              "29                         1246     covid19.kalbarprov.go.id  \n",
              "30                          700         corona.ntbprov.go.id  \n",
              "31                         2907  dinkes.papuabaratprov.go.id  \n",
              "32                         1130      dinkes.sulbarprov.go.id  \n",
              "33                         1909      corona.sumbarprov.go.id  "
            ]
          },
          "execution_count": 19,
          "metadata": {},
          "output_type": "execute_result"
        }
      ],
      "source": [
        "df.tail()"
      ]
    },
    {
      "attachments": {},
      "cell_type": "markdown",
      "metadata": {
        "id": "NMIdRs75-3Fm"
      },
      "source": [
        "## Add latitude and longitude to data set"
      ]
    },
    {
      "attachments": {},
      "cell_type": "markdown",
      "metadata": {
        "id": "EOI1c1Sn_2XQ"
      },
      "source": [
        "### import latitude and longitude from json file"
      ]
    },
    {
      "cell_type": "code",
      "execution_count": 20,
      "metadata": {
        "id": "8BMLfQui-W55"
      },
      "outputs": [],
      "source": [
        "longlat = \"https://raw.githubusercontent.com/Singa-dev/testing_dev/main/gps_data_sample.json\"\n",
        "df_longlat = pd.read_json(longlat)\n",
        "df_longlat.to_csv('longlat_province_id.csv')"
      ]
    },
    {
      "cell_type": "code",
      "execution_count": 22,
      "metadata": {
        "colab": {
          "base_uri": "https://localhost:8080/",
          "height": 206
        },
        "id": "7l49ra45AQK6",
        "outputId": "6cc4cc58-6729-410c-d469-28e1106b4388"
      },
      "outputs": [
        {
          "data": {
            "text/html": [
              "<div>\n",
              "<style scoped>\n",
              "    .dataframe tbody tr th:only-of-type {\n",
              "        vertical-align: middle;\n",
              "    }\n",
              "\n",
              "    .dataframe tbody tr th {\n",
              "        vertical-align: top;\n",
              "    }\n",
              "\n",
              "    .dataframe thead th {\n",
              "        text-align: right;\n",
              "    }\n",
              "</style>\n",
              "<table border=\"1\" class=\"dataframe\">\n",
              "  <thead>\n",
              "    <tr style=\"text-align: right;\">\n",
              "      <th></th>\n",
              "      <th>Unnamed: 0</th>\n",
              "      <th>Provinsi</th>\n",
              "      <th>latitude</th>\n",
              "      <th>longitude</th>\n",
              "      <th>logo</th>\n",
              "    </tr>\n",
              "  </thead>\n",
              "  <tbody>\n",
              "    <tr>\n",
              "      <th>0</th>\n",
              "      <td>0</td>\n",
              "      <td>Aceh</td>\n",
              "      <td>4.695135</td>\n",
              "      <td>96.749399</td>\n",
              "      <td>https://upload.wikimedia.org/wikipedia/commons...</td>\n",
              "    </tr>\n",
              "    <tr>\n",
              "      <th>1</th>\n",
              "      <td>1</td>\n",
              "      <td>Bali</td>\n",
              "      <td>-8.409518</td>\n",
              "      <td>115.188916</td>\n",
              "      <td>https://4.bp.blogspot.com/-ELlrLdH0frM/WSz4Ajq...</td>\n",
              "    </tr>\n",
              "    <tr>\n",
              "      <th>2</th>\n",
              "      <td>2</td>\n",
              "      <td>Bangka Belitung</td>\n",
              "      <td>-2.741051</td>\n",
              "      <td>106.440587</td>\n",
              "      <td>https://upload.wikimedia.org/wikipedia/commons...</td>\n",
              "    </tr>\n",
              "    <tr>\n",
              "      <th>3</th>\n",
              "      <td>3</td>\n",
              "      <td>Banten</td>\n",
              "      <td>-6.405817</td>\n",
              "      <td>106.064018</td>\n",
              "      <td>https://upload.wikimedia.org/wikipedia/commons...</td>\n",
              "    </tr>\n",
              "    <tr>\n",
              "      <th>4</th>\n",
              "      <td>4</td>\n",
              "      <td>Bengkulu</td>\n",
              "      <td>-3.577847</td>\n",
              "      <td>102.346388</td>\n",
              "      <td>https://upload.wikimedia.org/wikipedia/commons...</td>\n",
              "    </tr>\n",
              "  </tbody>\n",
              "</table>\n",
              "</div>"
            ],
            "text/plain": [
              "   Unnamed: 0         Provinsi  latitude   longitude  \\\n",
              "0           0             Aceh  4.695135   96.749399   \n",
              "1           1             Bali -8.409518  115.188916   \n",
              "2           2  Bangka Belitung -2.741051  106.440587   \n",
              "3           3           Banten -6.405817  106.064018   \n",
              "4           4         Bengkulu -3.577847  102.346388   \n",
              "\n",
              "                                                logo  \n",
              "0  https://upload.wikimedia.org/wikipedia/commons...  \n",
              "1  https://4.bp.blogspot.com/-ELlrLdH0frM/WSz4Ajq...  \n",
              "2  https://upload.wikimedia.org/wikipedia/commons...  \n",
              "3  https://upload.wikimedia.org/wikipedia/commons...  \n",
              "4  https://upload.wikimedia.org/wikipedia/commons...  "
            ]
          },
          "execution_count": 22,
          "metadata": {},
          "output_type": "execute_result"
        }
      ],
      "source": [
        "df_province_longlat = pd.read_csv('longlat_province_id.csv')\n",
        "df_province_longlat.head()"
      ]
    },
    {
      "cell_type": "code",
      "execution_count": 23,
      "metadata": {
        "id": "o6YQpLtZAkIv"
      },
      "outputs": [],
      "source": [
        "df_province_longlat = df_province_longlat.drop('Unnamed: 0', axis = 1)"
      ]
    },
    {
      "cell_type": "code",
      "execution_count": 24,
      "metadata": {
        "colab": {
          "base_uri": "https://localhost:8080/",
          "height": 1000
        },
        "id": "oV3CD5VnDH6a",
        "outputId": "e98ef6f4-1347-4b70-fbcc-5c3e89e1680c"
      },
      "outputs": [
        {
          "data": {
            "text/plain": [
              "0                   Aceh\n",
              "1                   Bali\n",
              "2        Bangka Belitung\n",
              "3                 Banten\n",
              "4               Bengkulu\n",
              "5           Central Java\n",
              "6     Central Kalimantan\n",
              "7       Central Sulawesi\n",
              "8              East Java\n",
              "9        East Kalimantan\n",
              "10    East Nusa Tenggara\n",
              "11             Gorontalo\n",
              "12               Jakarta\n",
              "13                 Jambi\n",
              "14               Lampung\n",
              "15                Maluku\n",
              "16          North Maluku\n",
              "17      North Kalimantan\n",
              "18        North Sulawesi\n",
              "19        North Sumatera\n",
              "20                 Papua\n",
              "21                  Riau\n",
              "22          Riau Islands\n",
              "23      South Kalimantan\n",
              "24        South Sulawesi\n",
              "25    Southeast Sulawesi\n",
              "26        South Sumatera\n",
              "27             West Java\n",
              "28       West Kalimantan\n",
              "29    West Nusa Tenggara\n",
              "30            West Papua\n",
              "31         West Sulawesi\n",
              "32          West Sumatra\n",
              "33            Yogyakarta\n",
              "Name: Provinsi, dtype: object"
            ]
          },
          "metadata": {},
          "output_type": "display_data"
        },
        {
          "data": {
            "text/plain": [
              "0                             Aceh\n",
              "1                             Bali\n",
              "2          Bangka Belitung Islands\n",
              "3                           Banten\n",
              "4                         Bengkulu\n",
              "5                     Central Java\n",
              "6               Central Kalimantan\n",
              "7                 Central Sulawesi\n",
              "8                        East Java\n",
              "9                  East Kalimantan\n",
              "10              East Nusa Tenggara\n",
              "11                       Gorontalo\n",
              "12                         Jakarta\n",
              "13                           Jambi\n",
              "14                         Lampung\n",
              "15                          Maluku\n",
              "16                North Kalimantan\n",
              "17                    North Maluku\n",
              "18                  North Sulawesi\n",
              "19                   North Sumatra\n",
              "20                           Papua\n",
              "21                            Riau\n",
              "22                    Riau Islands\n",
              "23                South Kalimantan\n",
              "24                  South Sulawesi\n",
              "25                   South Sumatra\n",
              "26              Southeast Sulawesi\n",
              "27    Special Region of Yogyakarta\n",
              "28                       West Java\n",
              "29                 West Kalimantan\n",
              "30              West Nusa Tenggara\n",
              "31                      West Papua\n",
              "32                   West Sulawesi\n",
              "33                    West Sumatra\n",
              "Name: province, dtype: object"
            ]
          },
          "metadata": {},
          "output_type": "display_data"
        }
      ],
      "source": [
        "display(df_province_longlat['Provinsi'], df['province'])"
      ]
    },
    {
      "cell_type": "code",
      "execution_count": 25,
      "metadata": {
        "id": "usEcyZf5HvcZ"
      },
      "outputs": [],
      "source": [
        "df_province_longlat = df_province_longlat.reindex([0,1,2,3,4,5,6,7,8,9,10,11,12,13,14,15,16,17,18,19,20,21,22,23,24,26,25,33,27,28,29,30,31,32])\n",
        "df_province_longlat = df_province_longlat.reset_index()"
      ]
    },
    {
      "cell_type": "code",
      "execution_count": 26,
      "metadata": {
        "colab": {
          "base_uri": "https://localhost:8080/"
        },
        "id": "dbR1h96eJKru",
        "outputId": "b36e3a84-f679-4b38-8c64-96c9660858f3"
      },
      "outputs": [
        {
          "data": {
            "text/plain": [
              "0                   Aceh\n",
              "1                   Bali\n",
              "2        Bangka Belitung\n",
              "3                 Banten\n",
              "4               Bengkulu\n",
              "5           Central Java\n",
              "6     Central Kalimantan\n",
              "7       Central Sulawesi\n",
              "8              East Java\n",
              "9        East Kalimantan\n",
              "10    East Nusa Tenggara\n",
              "11             Gorontalo\n",
              "12               Jakarta\n",
              "13                 Jambi\n",
              "14               Lampung\n",
              "15                Maluku\n",
              "16          North Maluku\n",
              "17      North Kalimantan\n",
              "18        North Sulawesi\n",
              "19        North Sumatera\n",
              "20                 Papua\n",
              "21                  Riau\n",
              "22          Riau Islands\n",
              "23      South Kalimantan\n",
              "24        South Sulawesi\n",
              "25        South Sumatera\n",
              "26    Southeast Sulawesi\n",
              "27            Yogyakarta\n",
              "28             West Java\n",
              "29       West Kalimantan\n",
              "30    West Nusa Tenggara\n",
              "31            West Papua\n",
              "32         West Sulawesi\n",
              "33          West Sumatra\n",
              "Name: Provinsi, dtype: object"
            ]
          },
          "execution_count": 26,
          "metadata": {},
          "output_type": "execute_result"
        }
      ],
      "source": [
        "df_province_longlat['Provinsi']"
      ]
    },
    {
      "attachments": {},
      "cell_type": "markdown",
      "metadata": {
        "id": "z_Vd20DwBtYZ"
      },
      "source": [
        "### Concatenate df and df_province_longlat"
      ]
    },
    {
      "cell_type": "code",
      "execution_count": 27,
      "metadata": {
        "id": "-LWIp0riCE7h"
      },
      "outputs": [],
      "source": [
        "df_with_longlat = pd.concat([df, df_province_longlat], axis=1)"
      ]
    },
    {
      "cell_type": "code",
      "execution_count": 28,
      "metadata": {
        "colab": {
          "base_uri": "https://localhost:8080/",
          "height": 618
        },
        "id": "pa0rql8JNE8J",
        "outputId": "63406556-6e3b-4cfa-cc9b-8e0966dd9a44"
      },
      "outputs": [
        {
          "data": {
            "text/html": [
              "<div>\n",
              "<style scoped>\n",
              "    .dataframe tbody tr th:only-of-type {\n",
              "        vertical-align: middle;\n",
              "    }\n",
              "\n",
              "    .dataframe tbody tr th {\n",
              "        vertical-align: top;\n",
              "    }\n",
              "\n",
              "    .dataframe thead th {\n",
              "        text-align: right;\n",
              "    }\n",
              "</style>\n",
              "<table border=\"1\" class=\"dataframe\">\n",
              "  <thead>\n",
              "    <tr style=\"text-align: right;\">\n",
              "      <th></th>\n",
              "      <th>province</th>\n",
              "      <th>cases</th>\n",
              "      <th>recoveries</th>\n",
              "      <th>deaths</th>\n",
              "      <th>active_case</th>\n",
              "      <th>cases_per_100,000_population</th>\n",
              "      <th>official_website</th>\n",
              "      <th>index</th>\n",
              "      <th>Provinsi</th>\n",
              "      <th>latitude</th>\n",
              "      <th>longitude</th>\n",
              "      <th>logo</th>\n",
              "    </tr>\n",
              "  </thead>\n",
              "  <tbody>\n",
              "    <tr>\n",
              "      <th>24</th>\n",
              "      <td>South Sulawesi</td>\n",
              "      <td>148491</td>\n",
              "      <td>145844</td>\n",
              "      <td>2571</td>\n",
              "      <td>76</td>\n",
              "      <td>1637</td>\n",
              "      <td>covid19.sulselprov.go.id</td>\n",
              "      <td>24</td>\n",
              "      <td>South Sulawesi</td>\n",
              "      <td>-3.668799</td>\n",
              "      <td>119.974053</td>\n",
              "      <td>https://upload.wikimedia.org/wikipedia/commons...</td>\n",
              "    </tr>\n",
              "    <tr>\n",
              "      <th>25</th>\n",
              "      <td>South Sumatra</td>\n",
              "      <td>85008</td>\n",
              "      <td>81398</td>\n",
              "      <td>3455</td>\n",
              "      <td>155</td>\n",
              "      <td>1004</td>\n",
              "      <td>corona.sumselprov.go.id</td>\n",
              "      <td>26</td>\n",
              "      <td>South Sumatera</td>\n",
              "      <td>-3.319437</td>\n",
              "      <td>103.914399</td>\n",
              "      <td>https://upload.wikimedia.org/wikipedia/commons...</td>\n",
              "    </tr>\n",
              "    <tr>\n",
              "      <th>26</th>\n",
              "      <td>Southeast Sulawesi</td>\n",
              "      <td>26556</td>\n",
              "      <td>25925</td>\n",
              "      <td>585</td>\n",
              "      <td>46</td>\n",
              "      <td>1012</td>\n",
              "      <td>dinkes.sultraprov.go.id</td>\n",
              "      <td>25</td>\n",
              "      <td>Southeast Sulawesi</td>\n",
              "      <td>-4.144910</td>\n",
              "      <td>122.174605</td>\n",
              "      <td>https://upload.wikimedia.org/wikipedia/commons...</td>\n",
              "    </tr>\n",
              "    <tr>\n",
              "      <th>27</th>\n",
              "      <td>Special Region of Yogyakarta</td>\n",
              "      <td>230005</td>\n",
              "      <td>223228</td>\n",
              "      <td>6072</td>\n",
              "      <td>705</td>\n",
              "      <td>6269</td>\n",
              "      <td>corona.jogjaprov.go.id</td>\n",
              "      <td>33</td>\n",
              "      <td>Yogyakarta</td>\n",
              "      <td>-7.875385</td>\n",
              "      <td>110.426209</td>\n",
              "      <td>https://upload.wikimedia.org/wikipedia/commons...</td>\n",
              "    </tr>\n",
              "    <tr>\n",
              "      <th>28</th>\n",
              "      <td>West Java</td>\n",
              "      <td>1231522</td>\n",
              "      <td>1205494</td>\n",
              "      <td>16090</td>\n",
              "      <td>9938</td>\n",
              "      <td>2551</td>\n",
              "      <td>pikobar.jabarprov.go.id</td>\n",
              "      <td>27</td>\n",
              "      <td>West Java</td>\n",
              "      <td>-7.090911</td>\n",
              "      <td>107.668887</td>\n",
              "      <td>https://3.bp.blogspot.com/-BRV8kAVyi4I/XDX3S86...</td>\n",
              "    </tr>\n",
              "    <tr>\n",
              "      <th>29</th>\n",
              "      <td>West Kalimantan</td>\n",
              "      <td>67451</td>\n",
              "      <td>66178</td>\n",
              "      <td>1146</td>\n",
              "      <td>127</td>\n",
              "      <td>1246</td>\n",
              "      <td>covid19.kalbarprov.go.id</td>\n",
              "      <td>28</td>\n",
              "      <td>West Kalimantan</td>\n",
              "      <td>-0.278781</td>\n",
              "      <td>111.475285</td>\n",
              "      <td>https://upload.wikimedia.org/wikipedia/commons...</td>\n",
              "    </tr>\n",
              "    <tr>\n",
              "      <th>30</th>\n",
              "      <td>West Nusa Tenggara</td>\n",
              "      <td>37266</td>\n",
              "      <td>36271</td>\n",
              "      <td>933</td>\n",
              "      <td>62</td>\n",
              "      <td>700</td>\n",
              "      <td>corona.ntbprov.go.id</td>\n",
              "      <td>29</td>\n",
              "      <td>West Nusa Tenggara</td>\n",
              "      <td>-8.652933</td>\n",
              "      <td>117.361648</td>\n",
              "      <td>https://upload.wikimedia.org/wikipedia/commons...</td>\n",
              "    </tr>\n",
              "    <tr>\n",
              "      <th>31</th>\n",
              "      <td>West Papua</td>\n",
              "      <td>32972</td>\n",
              "      <td>32515</td>\n",
              "      <td>393</td>\n",
              "      <td>64</td>\n",
              "      <td>2907</td>\n",
              "      <td>dinkes.papuabaratprov.go.id</td>\n",
              "      <td>30</td>\n",
              "      <td>West Papua</td>\n",
              "      <td>-1.336115</td>\n",
              "      <td>133.174716</td>\n",
              "      <td>https://upload.wikimedia.org/wikipedia/commons...</td>\n",
              "    </tr>\n",
              "    <tr>\n",
              "      <th>32</th>\n",
              "      <td>West Sulawesi</td>\n",
              "      <td>16038</td>\n",
              "      <td>15619</td>\n",
              "      <td>407</td>\n",
              "      <td>12</td>\n",
              "      <td>1130</td>\n",
              "      <td>dinkes.sulbarprov.go.id</td>\n",
              "      <td>31</td>\n",
              "      <td>West Sulawesi</td>\n",
              "      <td>-2.844137</td>\n",
              "      <td>119.232078</td>\n",
              "      <td>https://upload.wikimedia.org/wikipedia/commons...</td>\n",
              "    </tr>\n",
              "    <tr>\n",
              "      <th>33</th>\n",
              "      <td>West Sumatra</td>\n",
              "      <td>105635</td>\n",
              "      <td>103046</td>\n",
              "      <td>2420</td>\n",
              "      <td>169</td>\n",
              "      <td>1909</td>\n",
              "      <td>corona.sumbarprov.go.id</td>\n",
              "      <td>32</td>\n",
              "      <td>West Sumatra</td>\n",
              "      <td>-0.739940</td>\n",
              "      <td>100.800005</td>\n",
              "      <td>https://upload.wikimedia.org/wikipedia/commons...</td>\n",
              "    </tr>\n",
              "  </tbody>\n",
              "</table>\n",
              "</div>"
            ],
            "text/plain": [
              "                        province    cases recoveries deaths active_case  \\\n",
              "24                South Sulawesi   148491     145844   2571          76   \n",
              "25                 South Sumatra    85008      81398   3455         155   \n",
              "26            Southeast Sulawesi    26556      25925    585          46   \n",
              "27  Special Region of Yogyakarta   230005     223228   6072         705   \n",
              "28                     West Java  1231522    1205494  16090        9938   \n",
              "29               West Kalimantan    67451      66178   1146         127   \n",
              "30            West Nusa Tenggara    37266      36271    933          62   \n",
              "31                    West Papua    32972      32515    393          64   \n",
              "32                 West Sulawesi    16038      15619    407          12   \n",
              "33                  West Sumatra   105635     103046   2420         169   \n",
              "\n",
              "   cases_per_100,000_population             official_website  index  \\\n",
              "24                         1637     covid19.sulselprov.go.id     24   \n",
              "25                         1004      corona.sumselprov.go.id     26   \n",
              "26                         1012      dinkes.sultraprov.go.id     25   \n",
              "27                         6269       corona.jogjaprov.go.id     33   \n",
              "28                         2551      pikobar.jabarprov.go.id     27   \n",
              "29                         1246     covid19.kalbarprov.go.id     28   \n",
              "30                          700         corona.ntbprov.go.id     29   \n",
              "31                         2907  dinkes.papuabaratprov.go.id     30   \n",
              "32                         1130      dinkes.sulbarprov.go.id     31   \n",
              "33                         1909      corona.sumbarprov.go.id     32   \n",
              "\n",
              "              Provinsi  latitude   longitude  \\\n",
              "24      South Sulawesi -3.668799  119.974053   \n",
              "25      South Sumatera -3.319437  103.914399   \n",
              "26  Southeast Sulawesi -4.144910  122.174605   \n",
              "27          Yogyakarta -7.875385  110.426209   \n",
              "28           West Java -7.090911  107.668887   \n",
              "29     West Kalimantan -0.278781  111.475285   \n",
              "30  West Nusa Tenggara -8.652933  117.361648   \n",
              "31          West Papua -1.336115  133.174716   \n",
              "32       West Sulawesi -2.844137  119.232078   \n",
              "33        West Sumatra -0.739940  100.800005   \n",
              "\n",
              "                                                 logo  \n",
              "24  https://upload.wikimedia.org/wikipedia/commons...  \n",
              "25  https://upload.wikimedia.org/wikipedia/commons...  \n",
              "26  https://upload.wikimedia.org/wikipedia/commons...  \n",
              "27  https://upload.wikimedia.org/wikipedia/commons...  \n",
              "28  https://3.bp.blogspot.com/-BRV8kAVyi4I/XDX3S86...  \n",
              "29  https://upload.wikimedia.org/wikipedia/commons...  \n",
              "30  https://upload.wikimedia.org/wikipedia/commons...  \n",
              "31  https://upload.wikimedia.org/wikipedia/commons...  \n",
              "32  https://upload.wikimedia.org/wikipedia/commons...  \n",
              "33  https://upload.wikimedia.org/wikipedia/commons...  "
            ]
          },
          "execution_count": 28,
          "metadata": {},
          "output_type": "execute_result"
        }
      ],
      "source": [
        "df_with_longlat.tail(10)"
      ]
    },
    {
      "cell_type": "code",
      "execution_count": 29,
      "metadata": {
        "id": "ZATLnOg3NLNu"
      },
      "outputs": [],
      "source": [
        "df_with_longlat = df_with_longlat.drop(['index','Provinsi'], axis=1)"
      ]
    },
    {
      "attachments": {},
      "cell_type": "markdown",
      "metadata": {
        "id": "XmBii6_KSJwj"
      },
      "source": [
        "## Data Analisis and plotting to webgis"
      ]
    },
    {
      "cell_type": "code",
      "execution_count": 30,
      "metadata": {
        "id": "QRcPdvGXTrwj"
      },
      "outputs": [
        {
          "name": "stdout",
          "output_type": "stream",
          "text": [
            "Collecting folium\n",
            "  Downloading folium-0.14.0-py2.py3-none-any.whl (102 kB)\n",
            "     -------------------------------------- 102.3/102.3 kB 1.2 MB/s eta 0:00:00\n",
            "Collecting branca>=0.6.0 (from folium)\n",
            "  Downloading branca-0.6.0-py3-none-any.whl (24 kB)\n",
            "Requirement already satisfied: jinja2>=2.9 in c:\\users\\asus\\appdata\\local\\programs\\python\\python311\\lib\\site-packages (from folium) (3.1.2)\n",
            "Requirement already satisfied: numpy in c:\\users\\asus\\appdata\\local\\programs\\python\\python311\\lib\\site-packages (from folium) (1.23.4)\n",
            "Requirement already satisfied: requests in c:\\users\\asus\\appdata\\local\\programs\\python\\python311\\lib\\site-packages (from folium) (2.28.1)\n",
            "Requirement already satisfied: MarkupSafe>=2.0 in c:\\users\\asus\\appdata\\local\\programs\\python\\python311\\lib\\site-packages (from jinja2>=2.9->folium) (2.1.2)\n",
            "Requirement already satisfied: charset-normalizer<3,>=2 in c:\\users\\asus\\appdata\\local\\programs\\python\\python311\\lib\\site-packages (from requests->folium) (2.1.1)\n",
            "Requirement already satisfied: idna<4,>=2.5 in c:\\users\\asus\\appdata\\local\\programs\\python\\python311\\lib\\site-packages (from requests->folium) (3.4)\n",
            "Requirement already satisfied: urllib3<1.27,>=1.21.1 in c:\\users\\asus\\appdata\\local\\programs\\python\\python311\\lib\\site-packages (from requests->folium) (1.26.12)\n",
            "Requirement already satisfied: certifi>=2017.4.17 in c:\\users\\asus\\appdata\\local\\programs\\python\\python311\\lib\\site-packages (from requests->folium) (2022.9.24)\n",
            "Installing collected packages: branca, folium\n",
            "Successfully installed branca-0.6.0 folium-0.14.0\n",
            "Note: you may need to restart the kernel to use updated packages.\n"
          ]
        }
      ],
      "source": [
        "pip install folium"
      ]
    },
    {
      "cell_type": "code",
      "execution_count": 64,
      "metadata": {
        "id": "Yj2OF1D7r4xG"
      },
      "outputs": [],
      "source": [
        "def popup_html(row):\n",
        "    i = row\n",
        "    province_logo = df_with_longlat['logo'].iloc[i] \n",
        "    Province_Name = df_with_longlat['province'].iloc[i] \n",
        "    Total_cases = df_with_longlat['cases'].iloc[i]\n",
        "    Total_recoveries = df_with_longlat['recoveries'].iloc[i] \n",
        "    Total_deaths = df_with_longlat['deaths'].iloc[i]\n",
        "    Active_case = df_with_longlat['active_case'].iloc[i]                     \n",
        "\n",
        "    left_col_color = \"#19a7bd\"\n",
        "    right_col_color = \"#f2f0d3\"\n",
        "    red = \"#FF0000\"\n",
        "    green = \"#2BF61D\"\n",
        "    yellow = \"#FCD01F\"\n",
        "    \n",
        "    html = \"\"\"<!DOCTYPE html>\n",
        "<html>\n",
        "<head>\n",
        "<h4 style=\"margin-bottom:10\"; width=\"200px\">{}</h4>\"\"\".format(Province_Name) + \"\"\"\n",
        "</head>\n",
        "    <table style=\"height: 126px; width: 350px;\">\n",
        "<tbody>\n",
        "<td style=\"background-color: \"\"\"+ left_col_color +\"\"\";\"><span style=\"color: #ffffff;\">Total Case</span></td>\n",
        "<td style=\"width: 150px;background-color: \"\"\"+ right_col_color +\"\"\";\">{}</td>\"\"\".format(Total_cases) + \"\"\"\n",
        "</tr>\n",
        "<tr>\n",
        "<td style=\"background-color: \"\"\"+ green +\"\"\";\"><span style=\"color: #ffffff;\">Total Recoveries</span></td>\n",
        "<td style=\"width: 150px;background-color: \"\"\"+ right_col_color +\"\"\";\">{}</td>\"\"\".format(Total_recoveries) + \"\"\"\n",
        "</tr>\n",
        "<tr>\n",
        "<td style=\"background-color: \"\"\"+ red +\"\"\";\"><span style=\"color: #ffffff;\">Total Deaths</span></td>\n",
        "<td style=\"width: 150px;background-color: \"\"\"+ right_col_color +\"\"\";\">{}</td>\"\"\".format(Total_deaths) + \"\"\"\n",
        "</tr>\n",
        "<tr>\n",
        "<td style=\"background-color: \"\"\"+ yellow +\"\"\";\"><span style=\"color: #ffffff;\">Active Case</span></td>\n",
        "<td style=\"width: 150px;background-color: \"\"\"+ right_col_color +\"\"\";\">{}</td>\"\"\".format(Active_case) + \"\"\"\n",
        "</tr>\n",
        "</tbody>\n",
        "</table>\n",
        "</html>\n",
        "\"\"\"\n",
        "    return html"
      ]
    },
    {
      "cell_type": "code",
      "execution_count": 65,
      "metadata": {
        "id": "H1PoimeMs7Qu"
      },
      "outputs": [],
      "source": [
        "#Import libraries\n",
        "import folium\n",
        "import branca\n",
        "\n",
        "loc = 'INDONESIA COVID-19 DASHBOARD \\n Date : 25 December 2022'\n",
        "location = df_with_longlat.iloc[9]['latitude'], df_with_longlat.iloc[10]['longitude'] #Specify the center of the map by using the average of latitude and longitude coordinates\n",
        "m = folium.Map(location=location,zoom_start=5) #Create a empty folium map object\n",
        "\n",
        "title_html = '''\n",
        "             <h3 align=\"Left\" style=\"font-size:24px\"><b>{}</b></h3>\n",
        "             '''.format(loc) \n",
        "\n",
        "for i in range(0,len(df_with_longlat)):\n",
        "      \n",
        "    labels=df_with_longlat['province'].iloc[i] #Create a lable that is the name of province\n",
        "    html = popup_html(i)\n",
        "    iframe = branca.element.IFrame(html=html,width=510,height=280)\n",
        "    popup = folium.Popup(folium.Html(html, script=True), max_width=500)\n",
        "    folium.Marker([df_with_longlat.iloc[i]['latitude'], df_with_longlat.iloc[i]['longitude']],\n",
        "                  popup=popup,\n",
        "                  ).add_to(m)\n",
        "\n",
        "m.get_root().html.add_child(folium.Element(title_html))\n",
        "\n",
        "m.save(\"covidmap.html\")"
      ]
    }
  ],
  "metadata": {
    "colab": {
      "provenance": []
    },
    "kernelspec": {
      "display_name": "Python 3",
      "name": "python3"
    },
    "language_info": {
      "codemirror_mode": {
        "name": "ipython",
        "version": 3
      },
      "file_extension": ".py",
      "mimetype": "text/x-python",
      "name": "python",
      "nbconvert_exporter": "python",
      "pygments_lexer": "ipython3",
      "version": "3.11.0"
    }
  },
  "nbformat": 4,
  "nbformat_minor": 0
}
